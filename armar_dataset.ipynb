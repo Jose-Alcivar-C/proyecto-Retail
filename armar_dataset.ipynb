{
 "cells": [
  {
   "cell_type": "code",
   "execution_count": 1,
   "metadata": {},
   "outputs": [],
   "source": [
    "import os\n",
    "import shutil\n",
    "import json\n",
    "import pandas as pd"
   ]
  },
  {
   "cell_type": "code",
   "execution_count": 2,
   "metadata": {},
   "outputs": [
    {
     "name": "stdout",
     "output_type": "stream",
     "text": [
      "[1, 2, 3, 4, 5, 6, 7, 8, 9, 10]\n"
     ]
    }
   ],
   "source": [
    "DATA_ROOT = 'input/dataset'\n",
    "WORK_ROOT = 'working/dataset'\n",
    "     \n",
    "sample_ids = list(range(1, 11)) #id de los productos del dataset\n",
    "\n",
    "print(sample_ids)"
   ]
  },
  {
   "cell_type": "code",
   "execution_count": 3,
   "metadata": {},
   "outputs": [],
   "source": [
    "def convert_annotation(phase, in_dir, out_dir, sample_ids):\n",
    "    in_images_path  = f'{in_dir}/{phase}2019'\n",
    "    out_images_path = f'{out_dir}/images/{phase}'\n",
    "    out_labels_path = f'{out_dir}/labels/{phase}'\n",
    "    \n",
    "    os.makedirs(out_images_path, exist_ok=True)\n",
    "    os.makedirs(out_labels_path, exist_ok=True)\n",
    "    \n",
    "    # 1. load json desc\n",
    "    with open(os.path.join(f'{in_dir}/instances_{phase}2019.json'), 'rb') as f:\n",
    "        data = json.load(f)\n",
    "        \n",
    "    imgs_df = pd.DataFrame(data['images'])\n",
    "    anns_df = pd.DataFrame(data['annotations'])\n",
    "    \n",
    "    # 2. filter category id\n",
    "    anns_df = anns_df[anns_df['category_id'].isin(sample_ids)]\n",
    "    \n",
    "    # 3. filter image id\n",
    "    img_ids = anns_df['image_id'].unique()\n",
    "    imgs_df = imgs_df[imgs_df['id'].isin(img_ids)]\n",
    "    \n",
    "    # 4. covert yolov5 format\n",
    "    for _, item in imgs_df.iterrows():\n",
    "        imgw, imgh = item.width, item.height\n",
    "        ## 4.1 normalize scale\n",
    "        dw, dh = 1.0 / imgw, 1.0 / imgh\n",
    "        img_src_path = os.path.join(in_images_path, item.file_name)\n",
    "        if not os.path.exists(img_src_path):\n",
    "            continue\n",
    "        img_dst_path = os.path.join(out_images_path, item.file_name)\n",
    "        lab_dst_path = os.path.join(out_labels_path, item.file_name.replace('.jpg', '.txt'))\n",
    "        ## 4.2 annotation in this image\n",
    "        anns = anns_df[anns_df['image_id'] == item.id]\n",
    "        labs = []\n",
    "        for _, ann in anns.iterrows():\n",
    "            ## 4.3 convert bbox\n",
    "            cls_id = sample_ids.index(ann.category_id)\n",
    "            cx, cy = dw * ann.point_xy[0], dh * ann.point_xy[1]\n",
    "            sw, sh = dw * ann.bbox[2], dh * ann.bbox[3]\n",
    "            labs.append('%d %.6f %.6f %.6f %.6f' % (cls_id, cx, cy, sw, sh))\n",
    "        ## 4.4 save to file\n",
    "        with open(lab_dst_path, 'w') as fw:\n",
    "            fw.write('\\n'.join(labs))\n",
    "        ## 4.5 copy image to out dir\n",
    "        shutil.copyfile(img_src_path, img_dst_path)"
   ]
  },
  {
   "cell_type": "code",
   "execution_count": 4,
   "metadata": {},
   "outputs": [],
   "source": [
    "convert_annotation('train', DATA_ROOT, os.path.join(WORK_ROOT, 'out'), sample_ids)\n",
    "convert_annotation('val', DATA_ROOT, os.path.join(WORK_ROOT, 'out'), sample_ids)\n",
    "convert_annotation('test', DATA_ROOT, os.path.join(WORK_ROOT, 'out'), sample_ids)"
   ]
  }
 ],
 "metadata": {
  "kernelspec": {
   "display_name": "venv",
   "language": "python",
   "name": "python3"
  },
  "language_info": {
   "codemirror_mode": {
    "name": "ipython",
    "version": 3
   },
   "file_extension": ".py",
   "mimetype": "text/x-python",
   "name": "python",
   "nbconvert_exporter": "python",
   "pygments_lexer": "ipython3",
   "version": "3.11.3"
  },
  "orig_nbformat": 4
 },
 "nbformat": 4,
 "nbformat_minor": 2
}
